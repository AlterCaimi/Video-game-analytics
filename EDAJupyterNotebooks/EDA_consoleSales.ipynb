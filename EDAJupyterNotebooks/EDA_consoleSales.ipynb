{
 "cells": [
  {
   "cell_type": "code",
   "execution_count": 177,
   "metadata": {},
   "outputs": [],
   "source": [
    "# Import libraries\n",
    "\n",
    "import pandas as pd\n",
    "import numpy as np\n",
    "import seaborn as sns  #for making statistical graphics\n",
    "from matplotlib import pyplot as plt"
   ]
  },
  {
   "cell_type": "code",
   "execution_count": 162,
   "metadata": {},
   "outputs": [
    {
     "data": {
      "text/html": [
       "<div>\n",
       "<style scoped>\n",
       "    .dataframe tbody tr th:only-of-type {\n",
       "        vertical-align: middle;\n",
       "    }\n",
       "\n",
       "    .dataframe tbody tr th {\n",
       "        vertical-align: top;\n",
       "    }\n",
       "\n",
       "    .dataframe thead th {\n",
       "        text-align: right;\n",
       "    }\n",
       "</style>\n",
       "<table border=\"1\" class=\"dataframe\">\n",
       "  <thead>\n",
       "    <tr style=\"text-align: right;\">\n",
       "      <th></th>\n",
       "      <th>Year</th>\n",
       "      <th>Dato</th>\n",
       "      <th>Console</th>\n",
       "      <th>Company</th>\n",
       "      <th>Sales</th>\n",
       "    </tr>\n",
       "  </thead>\n",
       "  <tbody>\n",
       "    <tr>\n",
       "      <th>0</th>\n",
       "      <td>2011</td>\n",
       "      <td>anual</td>\n",
       "      <td>Nintendo 3DS</td>\n",
       "      <td>Nintendo</td>\n",
       "      <td>12560000.0</td>\n",
       "    </tr>\n",
       "    <tr>\n",
       "      <th>1</th>\n",
       "      <td>2012</td>\n",
       "      <td>anual</td>\n",
       "      <td>Nintendo 3DS</td>\n",
       "      <td>Nintendo</td>\n",
       "      <td>13480000.0</td>\n",
       "    </tr>\n",
       "    <tr>\n",
       "      <th>2</th>\n",
       "      <td>2013</td>\n",
       "      <td>anual</td>\n",
       "      <td>Nintendo 3DS</td>\n",
       "      <td>Nintendo</td>\n",
       "      <td>14310000.0</td>\n",
       "    </tr>\n",
       "    <tr>\n",
       "      <th>3</th>\n",
       "      <td>2014</td>\n",
       "      <td>anual</td>\n",
       "      <td>Nintendo 3DS</td>\n",
       "      <td>Nintendo</td>\n",
       "      <td>9740000.0</td>\n",
       "    </tr>\n",
       "    <tr>\n",
       "      <th>4</th>\n",
       "      <td>2015</td>\n",
       "      <td>anual</td>\n",
       "      <td>Nintendo 3DS</td>\n",
       "      <td>Nintendo</td>\n",
       "      <td>7330000.0</td>\n",
       "    </tr>\n",
       "  </tbody>\n",
       "</table>\n",
       "</div>"
      ],
      "text/plain": [
       "   Year   Dato       Console   Company       Sales\n",
       "0  2011  anual  Nintendo 3DS  Nintendo  12560000.0\n",
       "1  2012  anual  Nintendo 3DS  Nintendo  13480000.0\n",
       "2  2013  anual  Nintendo 3DS  Nintendo  14310000.0\n",
       "3  2014  anual  Nintendo 3DS  Nintendo   9740000.0\n",
       "4  2015  anual  Nintendo 3DS  Nintendo   7330000.0"
      ]
     },
     "execution_count": 162,
     "metadata": {},
     "output_type": "execute_result"
    }
   ],
   "source": [
    "# create dataframe from .xlsx\n",
    "consoleSales = pd.read_excel('../DataSource/2 Console_sales.xlsx')\n",
    "consoleSales.head()"
   ]
  },
  {
   "cell_type": "code",
   "execution_count": 163,
   "metadata": {},
   "outputs": [
    {
     "data": {
      "text/html": [
       "<div>\n",
       "<style scoped>\n",
       "    .dataframe tbody tr th:only-of-type {\n",
       "        vertical-align: middle;\n",
       "    }\n",
       "\n",
       "    .dataframe tbody tr th {\n",
       "        vertical-align: top;\n",
       "    }\n",
       "\n",
       "    .dataframe thead th {\n",
       "        text-align: right;\n",
       "    }\n",
       "</style>\n",
       "<table border=\"1\" class=\"dataframe\">\n",
       "  <thead>\n",
       "    <tr style=\"text-align: right;\">\n",
       "      <th></th>\n",
       "      <th>Year</th>\n",
       "      <th>Dato</th>\n",
       "      <th>Console</th>\n",
       "      <th>Company</th>\n",
       "      <th>Sales</th>\n",
       "    </tr>\n",
       "  </thead>\n",
       "  <tbody>\n",
       "    <tr>\n",
       "      <th>79</th>\n",
       "      <td>2014</td>\n",
       "      <td>anual</td>\n",
       "      <td>Xbox360</td>\n",
       "      <td>Microsoft</td>\n",
       "      <td>2600000.0</td>\n",
       "    </tr>\n",
       "    <tr>\n",
       "      <th>80</th>\n",
       "      <td>2015</td>\n",
       "      <td>anual</td>\n",
       "      <td>Xbox360</td>\n",
       "      <td>Microsoft</td>\n",
       "      <td>930000.0</td>\n",
       "    </tr>\n",
       "    <tr>\n",
       "      <th>81</th>\n",
       "      <td>2016</td>\n",
       "      <td>anual</td>\n",
       "      <td>Xbox360</td>\n",
       "      <td>Microsoft</td>\n",
       "      <td>390000.0</td>\n",
       "    </tr>\n",
       "    <tr>\n",
       "      <th>82</th>\n",
       "      <td>2017</td>\n",
       "      <td>anual</td>\n",
       "      <td>Xbox360</td>\n",
       "      <td>Microsoft</td>\n",
       "      <td>60000.0</td>\n",
       "    </tr>\n",
       "    <tr>\n",
       "      <th>83</th>\n",
       "      <td>2018</td>\n",
       "      <td>Out_of_use</td>\n",
       "      <td>Xbox360</td>\n",
       "      <td>Microsoft</td>\n",
       "      <td>-69910000.0</td>\n",
       "    </tr>\n",
       "  </tbody>\n",
       "</table>\n",
       "</div>"
      ],
      "text/plain": [
       "    Year        Dato  Console    Company       Sales\n",
       "79  2014       anual  Xbox360  Microsoft   2600000.0\n",
       "80  2015       anual  Xbox360  Microsoft    930000.0\n",
       "81  2016       anual  Xbox360  Microsoft    390000.0\n",
       "82  2017       anual  Xbox360  Microsoft     60000.0\n",
       "83  2018  Out_of_use  Xbox360  Microsoft -69910000.0"
      ]
     },
     "execution_count": 163,
     "metadata": {},
     "output_type": "execute_result"
    }
   ],
   "source": [
    "consoleSales.tail()"
   ]
  },
  {
   "cell_type": "code",
   "execution_count": 164,
   "metadata": {},
   "outputs": [
    {
     "name": "stdout",
     "output_type": "stream",
     "text": [
      "<class 'pandas.core.frame.DataFrame'>\n",
      "RangeIndex: 84 entries, 0 to 83\n",
      "Data columns (total 5 columns):\n",
      " #   Column   Non-Null Count  Dtype  \n",
      "---  ------   --------------  -----  \n",
      " 0   Year     84 non-null     int64  \n",
      " 1   Dato     84 non-null     object \n",
      " 2   Console  84 non-null     object \n",
      " 3   Company  84 non-null     object \n",
      " 4   Sales    84 non-null     float64\n",
      "dtypes: float64(1), int64(1), object(3)\n",
      "memory usage: 3.4+ KB\n"
     ]
    }
   ],
   "source": [
    "consoleSales.info()  # general info about the dataframe"
   ]
  },
  {
   "cell_type": "code",
   "execution_count": 165,
   "metadata": {},
   "outputs": [
    {
     "data": {
      "text/html": [
       "<div>\n",
       "<style scoped>\n",
       "    .dataframe tbody tr th:only-of-type {\n",
       "        vertical-align: middle;\n",
       "    }\n",
       "\n",
       "    .dataframe tbody tr th {\n",
       "        vertical-align: top;\n",
       "    }\n",
       "\n",
       "    .dataframe thead th {\n",
       "        text-align: right;\n",
       "    }\n",
       "</style>\n",
       "<table border=\"1\" class=\"dataframe\">\n",
       "  <thead>\n",
       "    <tr style=\"text-align: right;\">\n",
       "      <th></th>\n",
       "      <th>Year</th>\n",
       "      <th>Dato</th>\n",
       "      <th>Console</th>\n",
       "      <th>Company</th>\n",
       "      <th>Sales</th>\n",
       "    </tr>\n",
       "  </thead>\n",
       "  <tbody>\n",
       "    <tr>\n",
       "      <th>14</th>\n",
       "      <td>2014</td>\n",
       "      <td>Out_of_use</td>\n",
       "      <td>Nintendo DS</td>\n",
       "      <td>Nintendo</td>\n",
       "      <td>-89890000.0</td>\n",
       "    </tr>\n",
       "    <tr>\n",
       "      <th>25</th>\n",
       "      <td>2016</td>\n",
       "      <td>Out_of_use</td>\n",
       "      <td>Nintendo Wii</td>\n",
       "      <td>Nintendo</td>\n",
       "      <td>-81510000.0</td>\n",
       "    </tr>\n",
       "    <tr>\n",
       "      <th>32</th>\n",
       "      <td>2018</td>\n",
       "      <td>Out_of_use</td>\n",
       "      <td>Nintendo Wii U</td>\n",
       "      <td>Nintendo</td>\n",
       "      <td>-13630000.0</td>\n",
       "    </tr>\n",
       "    <tr>\n",
       "      <th>41</th>\n",
       "      <td>2018</td>\n",
       "      <td>Out_of_use</td>\n",
       "      <td>Sony PS Vita</td>\n",
       "      <td>Sony</td>\n",
       "      <td>-15530000.0</td>\n",
       "    </tr>\n",
       "    <tr>\n",
       "      <th>52</th>\n",
       "      <td>2018</td>\n",
       "      <td>Out_of_use</td>\n",
       "      <td>Sony PS3</td>\n",
       "      <td>Sony</td>\n",
       "      <td>-77730000.0</td>\n",
       "    </tr>\n",
       "    <tr>\n",
       "      <th>66</th>\n",
       "      <td>2015</td>\n",
       "      <td>Out_of_use</td>\n",
       "      <td>Sony PSP</td>\n",
       "      <td>Sony</td>\n",
       "      <td>-48290000.0</td>\n",
       "    </tr>\n",
       "    <tr>\n",
       "      <th>83</th>\n",
       "      <td>2018</td>\n",
       "      <td>Out_of_use</td>\n",
       "      <td>Xbox360</td>\n",
       "      <td>Microsoft</td>\n",
       "      <td>-69910000.0</td>\n",
       "    </tr>\n",
       "  </tbody>\n",
       "</table>\n",
       "</div>"
      ],
      "text/plain": [
       "    Year        Dato         Console    Company       Sales\n",
       "14  2014  Out_of_use     Nintendo DS   Nintendo -89890000.0\n",
       "25  2016  Out_of_use    Nintendo Wii   Nintendo -81510000.0\n",
       "32  2018  Out_of_use  Nintendo Wii U   Nintendo -13630000.0\n",
       "41  2018  Out_of_use    Sony PS Vita       Sony -15530000.0\n",
       "52  2018  Out_of_use        Sony PS3       Sony -77730000.0\n",
       "66  2015  Out_of_use        Sony PSP       Sony -48290000.0\n",
       "83  2018  Out_of_use         Xbox360  Microsoft -69910000.0"
      ]
     },
     "execution_count": 165,
     "metadata": {},
     "output_type": "execute_result"
    }
   ],
   "source": [
    "consoleSales[consoleSales['Dato'] == 'Out_of_use']"
   ]
  },
  {
   "cell_type": "code",
   "execution_count": 166,
   "metadata": {},
   "outputs": [
    {
     "name": "stdout",
     "output_type": "stream",
     "text": [
      "Nintendo 3DS\n",
      "Nintendo DS\n",
      "Nintendo Switch\n",
      "Nintendo Wii\n",
      "Nintendo Wii U\n",
      "Sony PS Vita\n",
      "Sony PS3\n",
      "Sony PS4\n",
      "Sony PSP\n",
      "Xbox One\n",
      "Xbox360\n"
     ]
    }
   ],
   "source": [
    "for console in consoleSales['Console'].unique(): print(console)    # these are the console names"
   ]
  },
  {
   "cell_type": "code",
   "execution_count": 167,
   "metadata": {},
   "outputs": [
    {
     "name": "stdout",
     "output_type": "stream",
     "text": [
      "Nintendo\n",
      "Sony\n",
      "Microsoft\n"
     ]
    }
   ],
   "source": [
    "for company in consoleSales['Company'].unique(): print(company)    # these are Company names"
   ]
  },
  {
   "cell_type": "code",
   "execution_count": 168,
   "metadata": {},
   "outputs": [
    {
     "name": "stdout",
     "output_type": "stream",
     "text": [
      "0 columns with null values\n"
     ]
    }
   ],
   "source": [
    "# Are there any null values in any of the columns? NO\n",
    "print(f'{consoleSales.isnull().all(1).sum()} columns with null values')"
   ]
  },
  {
   "cell_type": "code",
   "execution_count": 169,
   "metadata": {},
   "outputs": [
    {
     "name": "stdout",
     "output_type": "stream",
     "text": [
      "0 rows with null values\n"
     ]
    }
   ],
   "source": [
    "# There are not rows with all null values\n",
    "print(f'{consoleSales.isnull().all(1).sum()} rows with null values')"
   ]
  },
  {
   "cell_type": "code",
   "execution_count": 170,
   "metadata": {},
   "outputs": [
    {
     "data": {
      "text/plain": [
       "Year       0\n",
       "Dato       0\n",
       "Console    0\n",
       "Company    0\n",
       "Sales      0\n",
       "dtype: int64"
      ]
     },
     "execution_count": 170,
     "metadata": {},
     "output_type": "execute_result"
    }
   ],
   "source": [
    "consoleSales.isna().sum(0)        # counting missing values for each column."
   ]
  },
  {
   "cell_type": "code",
   "execution_count": 171,
   "metadata": {},
   "outputs": [
    {
     "name": "stdout",
     "output_type": "stream",
     "text": [
      "anual\n",
      "Out_of_use\n"
     ]
    }
   ],
   "source": [
    "for dato in consoleSales['Dato'].unique(): print(dato)    # These are the distinct values in Dato column"
   ]
  },
  {
   "cell_type": "code",
   "execution_count": 172,
   "metadata": {},
   "outputs": [
    {
     "name": "stdout",
     "output_type": "stream",
     "text": [
      "There are 2 decimals on Sales\n"
     ]
    }
   ],
   "source": [
    "print(f'There are {consoleSales[\"Sales\"][np.mod(consoleSales[\"Sales\"], 1) > 0].count()} decimals on Sales')"
   ]
  },
  {
   "cell_type": "code",
   "execution_count": 173,
   "metadata": {},
   "outputs": [
    {
     "name": "stdout",
     "output_type": "stream",
     "text": [
      "8369999.999999999 rounded to 8370000.0\n",
      "8210000.000000001 rounded to 8210000.0\n",
      "There are 0 decimals on Sales\n"
     ]
    }
   ],
   "source": [
    "# Redondear las filas con parte decimal mayor a cero en la columna 'Sales'\n",
    "df_filtrado = consoleSales['Sales'].apply(lambda x: round(x, 0) if x % 1 > 0 else x)\n",
    "\n",
    "for i in range(2):\n",
    "    print(f'{consoleSales[\"Sales\"].loc[70 + i]} rounded to {df_filtrado[70 + i]}')\n",
    "\n",
    "consoleSales['Sales'] = df_filtrado\n",
    "print(f'There are {consoleSales[\"Sales\"][np.mod(consoleSales[\"Sales\"], 1) > 0].count()} decimals on Sales')"
   ]
  },
  {
   "cell_type": "code",
   "execution_count": 174,
   "metadata": {},
   "outputs": [
    {
     "name": "stdout",
     "output_type": "stream",
     "text": [
      "<class 'pandas.core.series.Series'>\n",
      "RangeIndex: 84 entries, 0 to 83\n",
      "Series name: Sales\n",
      "Non-Null Count  Dtype\n",
      "--------------  -----\n",
      "84 non-null     int64\n",
      "dtypes: int64(1)\n",
      "memory usage: 800.0 bytes\n"
     ]
    }
   ],
   "source": [
    "consoleSales['Sales'] = consoleSales['Sales'].apply(int)\n",
    "consoleSales['Sales'].info()"
   ]
  },
  {
   "cell_type": "code",
   "execution_count": 175,
   "metadata": {},
   "outputs": [
    {
     "name": "stdout",
     "output_type": "stream",
     "text": [
      "Rows before  = 84\n",
      "Rows after   = 77\n",
      "Deleted rows =  7\n"
     ]
    }
   ],
   "source": [
    "# 'Out of use' is a totalization field that we can remove\n",
    "withoutOutOfUse = consoleSales[(consoleSales['Dato'] != 'Out_of_use')]\n",
    "print(f'Rows before  = {len(consoleSales)}\\nRows after   = {len(withoutOutOfUse)}')\n",
    "print(f'Deleted rows =  {len(consoleSales) - len(withoutOutOfUse)}')"
   ]
  },
  {
   "cell_type": "code",
   "execution_count": 178,
   "metadata": {},
   "outputs": [
    {
     "data": {
      "text/plain": [
       "<AxesSubplot:>"
      ]
     },
     "execution_count": 178,
     "metadata": {},
     "output_type": "execute_result"
    },
    {
     "data": {
      "image/png": "[encoded data removed]",
      "text/plain": [
       "<Figure size 432x288 with 2 Axes>"
      ]
     },
     "metadata": {
      "needs_background": "light"
     },
     "output_type": "display_data"
    }
   ],
   "source": [
    "# heatmap showing missing values: all OK\n",
    "sns.heatmap(withoutOutOfUse.isna())"
   ]
  },
  {
   "cell_type": "code",
   "execution_count": 176,
   "metadata": {},
   "outputs": [],
   "source": [
    "# Let's persist the data in a .csv file with columns separated by ';'\n",
    "withoutOutOfUse.to_csv('../DataClean/Console_sales_chewed.csv', sep=';', index=False)"
   ]
  }
 ],
 "metadata": {
  "kernelspec": {
   "display_name": "Python 3",
   "language": "python",
   "name": "python3"
  },
  "language_info": {
   "codemirror_mode": {
    "name": "ipython",
    "version": 3
   },
   "file_extension": ".py",
   "mimetype": "text/x-python",
   "name": "python",
   "nbconvert_exporter": "python",
   "pygments_lexer": "ipython3",
   "version": "3.10.12"
  }
 },
 "nbformat": 4,
 "nbformat_minor": 2
}
